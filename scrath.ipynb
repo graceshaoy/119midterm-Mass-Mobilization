{
 "cells": [
  {
   "cell_type": "code",
   "execution_count": 35,
   "id": "220915d7",
   "metadata": {},
   "outputs": [],
   "source": [
    "# Don't change this cell; just run it. \n",
    "import pandas as pd\n",
    "import numpy as np\n",
    "import scipy.linalg as la\n",
    "import matplotlib\n",
    "%matplotlib inline\n",
    "import matplotlib.pyplot as plt\n",
    "plt.style.use('fivethirtyeight')"
   ]
  },
  {
   "cell_type": "code",
   "execution_count": null,
   "id": "9c4502e7",
   "metadata": {},
   "outputs": [],
   "source": []
  },
  {
   "cell_type": "code",
   "execution_count": 62,
   "id": "76f9a28c",
   "metadata": {
    "scrolled": true
   },
   "outputs": [
    {
     "data": {
      "text/plain": [
       "<AxesSubplot:>"
      ]
     },
     "execution_count": 62,
     "metadata": {},
     "output_type": "execute_result"
    },
    {
     "data": {
      "image/png": "[encoded data removed]",
      "text/plain": [
       "<Figure size 432x288 with 1 Axes>"
      ]
     },
     "metadata": {},
     "output_type": "display_data"
    }
   ],
   "source": [
    "from numpy import random \n",
    "# generate 5 rows, 20 columns \n",
    "df1 = pd.DataFrame(np.random.random(size=(5,1)))\n",
    "df1['type'] = ['a']*5\n",
    "df2 = pd.DataFrame(np.random.random(size=(5,1)))\n",
    "df2['type'] = ['b']*5\n",
    "df3 = pd.DataFrame(np.random.random(size=(5,1)))\n",
    "df3['type'] = ['c']*5\n",
    "df4 = pd.DataFrame(np.random.random(size=(5,1)))\n",
    "df4['type'] = ['d']*5\n",
    "df = pd.concat([df1, df2, df3, df4])\n",
    "# plt.figure() \n",
    "# Boxplot by 5 rows\n",
    "# df.T.boxplot() \n",
    "# median(axis=1)  gives row-wise medians\n",
    "# argsort()  gives the row indexes that correspond to the\n",
    "# smallest, next-smallest... up to largest values of its argument.\n",
    "rowindexes = np.argsort( pd.pivot_table(df, columns=[\"type\"], aggfunc=np.median)).iloc[0,:]\n",
    "sorteddf = df.iloc[rowindexes,:] \n",
    "# plt.figure() \n",
    "sorteddf.boxplot()#.T#.boxplot()"
   ]
  },
  {
   "cell_type": "code",
   "execution_count": 95,
   "id": "f3bd6943",
   "metadata": {},
   "outputs": [],
   "source": [
    "rowindexes_rr = pd.DataFrame(np.argsort(pd.pivot_table(mm, columns=[\"region\"], aggfunc = np.mean)).iloc[0,:].sort_values()).reset_index()\n",
    "# rr_sorted = mm.iloc[rowindexes_rr,:]\n",
    "rr_sorted#.boxplot(by = 'region', column = 'stateresponse_sum', figsize = [7,5], rot = 45)\n",
    "\n",
    "rr_regions, rr_stateresponses = [], []\n",
    "for r in rowindexes_rr.region:\n",
    "    re = r\n",
    "    rmm = mm.query('region == @re')\n",
    "    rr_regions.append(rmm.region)\n",
    "    rr_stateresponses.append(rmm.stateresponse_sum)"
   ]
  },
  {
   "cell_type": "code",
   "execution_count": null,
   "id": "7a56452b",
   "metadata": {},
   "outputs": [],
   "source": [
    "# s = mm.sort_values('mean_regionresponse')\n",
    "mm.boxplot(by = 'region', column = 'stateresponse_sum', figsize = [7,5], rot = 45)\n",
    "plt.xlabel('Region')\n",
    "plt.ylabel('State Response\\n(quantified sum)')\n",
    "plt.title('')\n",
    "# plt.savefig(\"stateresponse_region\", dpi=400, bbox_inches = 'tight')-"
   ]
  },
  {
   "cell_type": "code",
   "execution_count": null,
   "id": "04b53033",
   "metadata": {},
   "outputs": [],
   "source": [
    "\n",
    "# rr_means = {} #rr for region_response\n",
    "# for r in mm.region.unique():\n",
    "#     re = r\n",
    "#     rr_means[re] = rr_means.get(re, mm.query('region == @re').stateresponse_sum.mean())\n",
    "    \n",
    "# # mean_regionresponse = []\n",
    "# # for i in range(len(mm)):\n",
    "# #     mean_regionresponse.append(rr_means[mm.region[i]])\n",
    "# # mm['mean_regionresponse'] = mean_regionresponse\n",
    "\n",
    "# rr_order = {}\n",
    "# rr_sorted = mm.sort_values('mean_regionresponse').region.unique()\n",
    "# for i in range(len(mm.region.unique())):\n",
    "#     reg = rr_sorted[i]\n",
    "#     rr_order[reg] = rr_order.get(reg, i)\n",
    "# [r + \": \" + str(rr_order[r]) for r in mm.region.unique()]\n",
    "\n",
    "# s = mm.sort_values('mean_regionresponse')"
   ]
  },
  {
   "cell_type": "code",
   "execution_count": 57,
   "id": "9bdacd3d",
   "metadata": {},
   "outputs": [],
   "source": [
    "def matprint(matrix):\n",
    "    print('\\n'.join([''.join([' :{}'.format(x) for x in row])for row in matrix]))\n",
    "def count_col(matrix):\n",
    "    nitem = 0\n",
    "    nrow = 0\n",
    "    for row in matrix:\n",
    "        nrow += 1\n",
    "        for x in row:\n",
    "            nitem += 1\n",
    "    return nitem / nrow\n",
    "def rank(matrix):\n",
    "    return count_col(la.orth(A))"
   ]
  },
  {
   "cell_type": "code",
   "execution_count": 71,
   "id": "21cede2b",
   "metadata": {},
   "outputs": [
    {
     "name": "stdout",
     "output_type": "stream",
     "text": [
      "|AA.T|: 0.397586412133157\n",
      "|A.TA|: -3.1584613372140407e-32\n",
      "rank(AA.T): 5.0\n",
      "rank(A.TA): 5.0\n"
     ]
    }
   ],
   "source": [
    "nrow = 5\n",
    "ncol = 7\n",
    "A = np.vstack([np.random.random((nrow,ncol))])\n",
    "print(\"|AA.T|: \" + str(la.det(np.matmul(A,A.T))) + \"\\n|A.TA|: \" + str(la.det(np.matmul(A.T,A))) \\\n",
    "      + \"\\nrank(AA.T): \" + str(rank(np.matmul(A,A.T))) + \"\\nrank(A.TA): \" + str(rank(np.matmul(A.T,A))))"
   ]
  },
  {
   "cell_type": "code",
   "execution_count": 74,
   "id": "4ba10318",
   "metadata": {},
   "outputs": [
    {
     "name": "stdout",
     "output_type": "stream",
     "text": [
      "|AA.T|: 0.27748464091428515\n",
      "|A.TA|: 4.857596929020707e-49\n",
      "rank(AA.T): 5.0\n",
      "rank(A.TA): 5.0\n"
     ]
    }
   ],
   "source": [
    "nrow = 5\n",
    "ncol = 8\n",
    "A = np.vstack([np.random.random((nrow,ncol))])\n",
    "print(\"|AA.T|: \" + str(la.det(np.matmul(A,A.T))) + \"\\n|A.TA|: \" + str(la.det(np.matmul(A.T,A))) \\\n",
    "      + \"\\nrank(AA.T): \" + str(rank(np.matmul(A,A.T))) + \"\\nrank(A.TA): \" + str(rank(np.matmul(A.T,A))))"
   ]
  },
  {
   "cell_type": "code",
   "execution_count": 73,
   "id": "f0aecd91",
   "metadata": {},
   "outputs": [
    {
     "name": "stdout",
     "output_type": "stream",
     "text": [
      "|AA.T|: 0.3549875094923233\n",
      "|A.TA|: -2.845370008372813e-35\n",
      "rank(AA.T): 3.0\n",
      "rank(A.TA): 3.0\n"
     ]
    }
   ],
   "source": [
    "nrow = 3\n",
    "ncol = 5\n",
    "A = np.vstack([np.random.random((nrow,ncol))])\n",
    "print(\"|AA.T|: \" + str(la.det(np.matmul(A,A.T))) + \"\\n|A.TA|: \" + str(la.det(np.matmul(A.T,A))) \\\n",
    "      + \"\\nrank(AA.T): \" + str(rank(np.matmul(A,A.T))) + \"\\nrank(A.TA): \" + str(rank(np.matmul(A.T,A))))"
   ]
  },
  {
   "cell_type": "code",
   "execution_count": 49,
   "id": "48705fdf",
   "metadata": {},
   "outputs": [
    {
     "name": "stdout",
     "output_type": "stream",
     "text": [
      " :-0.12135881322533218 :0.2241705483382047\n",
      " :-0.6515118173903957 :0.3488569817098038\n",
      " :-0.28047212036780744 :-0.13476850537218948\n",
      " :0.6652005567308217 :0.37331108753123254\n",
      " :0.007478895722501647 :-0.7722379822162417\n",
      " :0.1261964344370975 :0.10261074412545851\n",
      " :-0.1538392840880663 :0.2522740324898222\n"
     ]
    }
   ],
   "source": [
    "matprint(la.null_space(A))"
   ]
  },
  {
   "cell_type": "code",
   "execution_count": 17,
   "id": "cfa213e5",
   "metadata": {},
   "outputs": [],
   "source": [
    "A = np.vstack([np.random.random((4,4))])\n",
    "B = np.vstack([np.random.random((4,4))])\n",
    "three = np.vstack([np.random.random((3,3))])"
   ]
  },
  {
   "cell_type": "code",
   "execution_count": 32,
   "id": "4bbeb80b",
   "metadata": {},
   "outputs": [
    {
     "data": {
      "text/plain": [
       "(False, True)"
      ]
     },
     "execution_count": 32,
     "metadata": {},
     "output_type": "execute_result"
    }
   ],
   "source": [
    "np.allclose(la.det(-A), -la.det(A)), np.allclose(la.det(-three), -la.det(three)) #a"
   ]
  },
  {
   "cell_type": "code",
   "execution_count": 25,
   "id": "01d4a868",
   "metadata": {},
   "outputs": [
    {
     "data": {
      "text/plain": [
       "False"
      ]
     },
     "execution_count": 25,
     "metadata": {},
     "output_type": "execute_result"
    }
   ],
   "source": [
    "np.allclose(la.det(2*A), 2*la.det(A)) #b"
   ]
  },
  {
   "cell_type": "code",
   "execution_count": 26,
   "id": "21d56177",
   "metadata": {},
   "outputs": [
    {
     "data": {
      "text/plain": [
       "False"
      ]
     },
     "execution_count": 26,
     "metadata": {},
     "output_type": "execute_result"
    }
   ],
   "source": [
    "np.allclose(la.det(A+B), la.det(A) + la.det(B)) #c"
   ]
  },
  {
   "cell_type": "code",
   "execution_count": 27,
   "id": "9d8d49ac",
   "metadata": {},
   "outputs": [
    {
     "data": {
      "text/plain": [
       "True"
      ]
     },
     "execution_count": 27,
     "metadata": {},
     "output_type": "execute_result"
    }
   ],
   "source": [
    "np.allclose(la.det(np.matmul(A,B)), la.det(A) * la.det(B)) #d"
   ]
  },
  {
   "cell_type": "code",
   "execution_count": 28,
   "id": "ebd7f387",
   "metadata": {},
   "outputs": [
    {
     "data": {
      "text/plain": [
       "True"
      ]
     },
     "execution_count": 28,
     "metadata": {},
     "output_type": "execute_result"
    }
   ],
   "source": [
    "np.allclose(la.det(A.T), la.det(A)) #e"
   ]
  },
  {
   "cell_type": "code",
   "execution_count": 33,
   "id": "03af3657",
   "metadata": {},
   "outputs": [
    {
     "data": {
      "text/plain": [
       "True"
      ]
     },
     "execution_count": 33,
     "metadata": {},
     "output_type": "execute_result"
    }
   ],
   "source": [
    "np.allclose(la.det(la.inv(A)), 1 / la.det(A))"
   ]
  },
  {
   "cell_type": "code",
   "execution_count": 13,
   "id": "d5e287ab",
   "metadata": {},
   "outputs": [
    {
     "data": {
      "text/plain": [
       "(array([[-7],\n",
       "        [ 5],\n",
       "        [ 2]]),\n",
       " array([[ 1,  0,  0],\n",
       "        [-1,  1,  0],\n",
       "        [ 2, -5,  1]]),\n",
       " array([[ 3, -7, -2],\n",
       "        [ 0, -2, -1],\n",
       "        [ 0,  0, -1]]))"
      ]
     },
     "execution_count": 13,
     "metadata": {},
     "output_type": "execute_result"
    }
   ],
   "source": [
    "L = np.vstack([[1,0,0],[-1,1,0],[2,-5,1]])\n",
    "U = np.vstack([[3,-7,-2],[0,-2,-1],[0,0,-1]])\n",
    "L, U\n",
    "b = np.vstack([[-7,5,2]]).T\n",
    "b, L, U"
   ]
  },
  {
   "cell_type": "code",
   "execution_count": 15,
   "id": "c3333b7c",
   "metadata": {},
   "outputs": [
    {
     "data": {
      "text/plain": [
       "array([[-7.],\n",
       "       [-2.],\n",
       "       [ 6.]])"
      ]
     },
     "execution_count": 15,
     "metadata": {},
     "output_type": "execute_result"
    }
   ],
   "source": [
    "y = la.solve(L, b)\n",
    "y"
   ]
  },
  {
   "cell_type": "code",
   "execution_count": 16,
   "id": "6389bef3",
   "metadata": {},
   "outputs": [
    {
     "data": {
      "text/plain": [
       "array([[ 3.],\n",
       "       [ 4.],\n",
       "       [-6.]])"
      ]
     },
     "execution_count": 16,
     "metadata": {},
     "output_type": "execute_result"
    }
   ],
   "source": [
    "la.solve(U,y)"
   ]
  },
  {
   "cell_type": "markdown",
   "id": "69d68205",
   "metadata": {},
   "source": [
    "## part a"
   ]
  },
  {
   "cell_type": "code",
   "execution_count": 6,
   "id": "1eb4cdbc",
   "metadata": {},
   "outputs": [
    {
     "data": {
      "text/plain": [
       "(array([[0.74572671, 0.36385292, 0.60837197, 0.01753076],\n",
       "        [0.83440467, 0.95774117, 0.87786589, 0.36561401],\n",
       "        [0.83641219, 0.76811082, 0.58979954, 0.28415914],\n",
       "        [0.37514064, 0.95161899, 0.7885801 , 0.99223912]]),\n",
       " array([[1, 0, 0, 0],\n",
       "        [0, 1, 0, 0],\n",
       "        [0, 0, 1, 0],\n",
       "        [0, 0, 0, 1]]))"
      ]
     },
     "execution_count": 6,
     "metadata": {},
     "output_type": "execute_result"
    }
   ],
   "source": [
    "a = np.vstack([np.random.random(4),np.random.random(4),np.random.random(4),np.random.random(4)])\n",
    "i = np.vstack([[1,0,0,0],[0,1,0,0],[0,0,1,0],[0,0,0,1]])\n",
    "a, i"
   ]
  },
  {
   "cell_type": "code",
   "execution_count": 40,
   "id": "5501f7fd",
   "metadata": {},
   "outputs": [
    {
     "data": {
      "text/plain": [
       "array([[0.91858309, 0.85535885, 0.45013663, 0.40929881],\n",
       "       [0.19584703, 0.71434344, 0.73783854, 0.92895862],\n",
       "       [0.43369449, 0.46544517, 0.10048915, 0.45180457],\n",
       "       [0.0817876 , 0.63598596, 0.24494043, 0.86610678]])"
      ]
     },
     "execution_count": 40,
     "metadata": {},
     "output_type": "execute_result"
    }
   ],
   "source": [
    "np.matmul(a,i)"
   ]
  },
  {
   "cell_type": "code",
   "execution_count": 41,
   "id": "88844c8d",
   "metadata": {},
   "outputs": [],
   "source": [
    "answera = np.matmul((a+i),(a-i)) - (np.matmul(a,a) - np.matmul(i,i))"
   ]
  },
  {
   "cell_type": "code",
   "execution_count": 42,
   "id": "023e46d8",
   "metadata": {},
   "outputs": [
    {
     "data": {
      "text/plain": [
       "True"
      ]
     },
     "execution_count": 42,
     "metadata": {},
     "output_type": "execute_result"
    }
   ],
   "source": [
    "np.allclose(0, answera)"
   ]
  },
  {
   "cell_type": "markdown",
   "id": "27db4eef",
   "metadata": {},
   "source": [
    "## part b"
   ]
  },
  {
   "cell_type": "code",
   "execution_count": 43,
   "id": "7e8e1a32",
   "metadata": {},
   "outputs": [
    {
     "data": {
      "text/plain": [
       "(array([[0.11053876, 0.9830145 , 0.2336152 , 0.29568161],\n",
       "        [0.43287815, 0.00555091, 0.48073561, 0.53272754],\n",
       "        [0.61065012, 0.08104899, 0.83994957, 0.52141354],\n",
       "        [0.84038392, 0.07785855, 0.50471389, 0.39564218]]),\n",
       " array([[0.28185188, 0.9699282 , 0.70226921, 0.65571762],\n",
       "        [0.51800419, 0.88033289, 0.95018022, 0.77501328],\n",
       "        [0.02680574, 0.05417272, 0.074933  , 0.28976234],\n",
       "        [0.95655463, 0.26661436, 0.41614075, 0.23851162]]))"
      ]
     },
     "execution_count": 43,
     "metadata": {},
     "output_type": "execute_result"
    }
   ],
   "source": [
    "a = np.vstack([np.random.random(4),np.random.random(4),np.random.random(4),np.random.random(4)])\n",
    "b = np.vstack([np.random.random(4),np.random.random(4),np.random.random(4),np.random.random(4)])\n",
    "a, b"
   ]
  },
  {
   "cell_type": "code",
   "execution_count": 44,
   "id": "6b38edf6",
   "metadata": {},
   "outputs": [
    {
     "data": {
      "text/plain": [
       "(array([[ 0.20241818, -1.85769319, -0.30045835, -0.24815229],\n",
       "        [ 0.44520058, -0.97089764,  0.34899686, -0.02002948],\n",
       "        [ 0.31919873, -0.2384731 ,  0.40952339,  0.07712481],\n",
       "        [ 0.12680294, -0.37277448, -0.24321533, -0.41746143]]),\n",
       " array([[-0.39903439, -1.1840299 , -0.60118322, -0.5012525 ],\n",
       "        [-0.57731981, -1.02951954, -0.81750365, -0.8897275 ],\n",
       "        [ 0.73888862,  0.55439759,  0.95380467,  0.71760329],\n",
       "        [ 0.12027476, -0.35038035, -0.19815146, -0.30166824]]))"
      ]
     },
     "execution_count": 44,
     "metadata": {},
     "output_type": "execute_result"
    }
   ],
   "source": [
    "leftb = np.matmul((a+b),(a-b))\n",
    "rightb = np.matmul(a,a) - np.matmul(b,b)\n",
    "leftb, rightb"
   ]
  },
  {
   "cell_type": "code",
   "execution_count": 45,
   "id": "56e5d9dd",
   "metadata": {},
   "outputs": [
    {
     "data": {
      "text/plain": [
       "False"
      ]
     },
     "execution_count": 45,
     "metadata": {},
     "output_type": "execute_result"
    }
   ],
   "source": [
    "np.allclose(leftb,rightb)"
   ]
  },
  {
   "cell_type": "markdown",
   "id": "1ba17851",
   "metadata": {},
   "source": [
    "## part c"
   ]
  },
  {
   "cell_type": "code",
   "execution_count": 46,
   "id": "89ace37b",
   "metadata": {},
   "outputs": [
    {
     "data": {
      "text/plain": [
       "(array([[0.82945903, 0.64735239, 0.73537261, 0.66917744],\n",
       "        [1.06408319, 0.59282294, 0.84815555, 1.01647911],\n",
       "        [1.15221956, 0.56698396, 0.78577329, 0.86661796],\n",
       "        [0.9725479 , 0.55450865, 0.83097703, 0.85200829]]),\n",
       " array([[1.4309116 , 1.66987278, 0.31568272, 0.67570562],\n",
       "        [0.39041991, 0.65144484, 0.05528486, 0.99408498],\n",
       "        [1.45294443, 1.73348447, 0.24149201, 0.82155409],\n",
       "        [1.22564811, 1.42420667, 0.19049855, 0.7362151 ]]))"
      ]
     },
     "execution_count": 46,
     "metadata": {},
     "output_type": "execute_result"
    }
   ],
   "source": [
    "leftc = np.matmul(a,b).T\n",
    "rightc = np.matmul(a.T,b.T)\n",
    "leftc, rightc"
   ]
  },
  {
   "cell_type": "code",
   "execution_count": 47,
   "id": "17f102eb",
   "metadata": {},
   "outputs": [
    {
     "data": {
      "text/plain": [
       "False"
      ]
     },
     "execution_count": 47,
     "metadata": {},
     "output_type": "execute_result"
    }
   ],
   "source": [
    "np.allclose(leftc, rightc)"
   ]
  },
  {
   "cell_type": "code",
   "execution_count": 58,
   "id": "04657e63",
   "metadata": {},
   "outputs": [
    {
     "data": {
      "text/plain": [
       "(array([[ 5,  7],\n",
       "        [-3, -6]]),\n",
       " array([[1, 0],\n",
       "        [0, 1]]))"
      ]
     },
     "execution_count": 58,
     "metadata": {},
     "output_type": "execute_result"
    }
   ],
   "source": [
    "a = np.vstack([[5,7],[-3,-6]])\n",
    "i = np.vstack([[1,0],[0,1]])\n",
    "a, i"
   ]
  },
  {
   "cell_type": "code",
   "execution_count": 59,
   "id": "303d241a",
   "metadata": {},
   "outputs": [
    {
     "data": {
      "text/plain": [
       "array([[ 0.66666667,  0.77777778],\n",
       "       [-0.33333333, -0.55555556]])"
      ]
     },
     "execution_count": 59,
     "metadata": {},
     "output_type": "execute_result"
    }
   ],
   "source": [
    "np.linalg.solve(a,i)"
   ]
  },
  {
   "cell_type": "code",
   "execution_count": 63,
   "id": "8733fa74",
   "metadata": {},
   "outputs": [
    {
     "data": {
      "text/plain": [
       "array([[-4,  6],\n",
       "       [ 6, -9]])"
      ]
     },
     "execution_count": 63,
     "metadata": {},
     "output_type": "execute_result"
    }
   ],
   "source": [
    "b = np.vstack([[-4,6],[6,-9]])\n",
    "b"
   ]
  },
  {
   "cell_type": "code",
   "execution_count": 64,
   "id": "fed9253d",
   "metadata": {},
   "outputs": [
    {
     "data": {
      "text/plain": [
       "array([[4.50359963e+15, 3.00239975e+15],\n",
       "       [3.00239975e+15, 2.00159983e+15]])"
      ]
     },
     "execution_count": 64,
     "metadata": {},
     "output_type": "execute_result"
    }
   ],
   "source": [
    "np.linalg.solve(b,i)"
   ]
  },
  {
   "cell_type": "markdown",
   "id": "50433500",
   "metadata": {},
   "source": [
    "## part d"
   ]
  },
  {
   "cell_type": "code",
   "execution_count": 55,
   "id": "cc695b76",
   "metadata": {},
   "outputs": [
    {
     "data": {
      "text/plain": [
       "(array([[-0.90980392,  5.86214468, -2.20175955, -0.62930187],\n",
       "        [-2.58955294,  3.505789  , -6.92453266,  7.42786381],\n",
       "        [ 4.97293879, -0.29039822, -3.20081162, -2.36569518],\n",
       "        [-1.25420299, -8.49136328, 13.24622255, -4.78751194]]),\n",
       " array([[-0.90980392,  5.86214468, -2.20175955, -0.62930187],\n",
       "        [-2.58955294,  3.505789  , -6.92453266,  7.42786381],\n",
       "        [ 4.97293879, -0.29039822, -3.20081162, -2.36569518],\n",
       "        [-1.25420299, -8.49136328, 13.24622255, -4.78751194]]))"
      ]
     },
     "execution_count": 55,
     "metadata": {},
     "output_type": "execute_result"
    }
   ],
   "source": [
    "leftd = np.linalg.inv(np.matmul(a,b))\n",
    "rightd = np.matmul(np.linalg.inv(b),np.linalg.inv(a))\n",
    "leftd, rightd"
   ]
  },
  {
   "cell_type": "code",
   "execution_count": 56,
   "id": "ee5c9306",
   "metadata": {},
   "outputs": [
    {
     "data": {
      "text/plain": [
       "True"
      ]
     },
     "execution_count": 56,
     "metadata": {},
     "output_type": "execute_result"
    }
   ],
   "source": [
    "np.allclose(leftd,rightd)"
   ]
  }
 ],
 "metadata": {
  "kernelspec": {
   "display_name": "Python 3 (ipykernel)",
   "language": "python",
   "name": "python3"
  },
  "language_info": {
   "codemirror_mode": {
    "name": "ipython",
    "version": 3
   },
   "file_extension": ".py",
   "mimetype": "text/x-python",
   "name": "python",
   "nbconvert_exporter": "python",
   "pygments_lexer": "ipython3",
   "version": "3.9.7"
  }
 },
 "nbformat": 4,
 "nbformat_minor": 5
}
